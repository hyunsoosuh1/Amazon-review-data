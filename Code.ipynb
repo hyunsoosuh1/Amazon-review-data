{
 "cells": [
  {
   "cell_type": "markdown",
   "metadata": {},
   "source": [
    "## 1. Data Preprocessing"
   ]
  },
  {
   "cell_type": "code",
   "execution_count": null,
   "metadata": {},
   "outputs": [],
   "source": [
    "import matplotlib.pyplot as plt\n",
    "import pandas as pd\n",
    "import ast\n",
    "import seaborn as sns\n",
    "import numpy as np\n",
    "import scipy.stats as stats\n",
    "import pandas as pd\n",
    "import tqdm\n",
    "sns.set_style('darkgrid')"
   ]
  },
  {
   "cell_type": "code",
   "execution_count": 1,
   "metadata": {},
   "outputs": [
    {
     "data": {
      "application/vnd.jupyter.widget-view+json": {
       "model_id": "ce5a9b7dd48749f2a613765d0f54d8c5",
       "version_major": 2,
       "version_minor": 0
      },
      "text/plain": [
       "HBox(children=(IntProgress(value=1, bar_style='info', max=1), HTML(value='')))"
      ]
     },
     "metadata": {},
     "output_type": "display_data"
    },
    {
     "name": "stdout",
     "output_type": "stream",
     "text": [
      "\n"
     ]
    }
   ],
   "source": [
    "chunks = pd.read_json('Books.json', lines=True, chunksize =1000000)\n",
    "result=pd.DataFrame()\n",
    "for c in tqdm.tqdm_notebook(chunks):\n",
    "    result=result.append(c[['reviewerID','overall','asin']])\n",
    "result.to_csv('Books.csv',index=False)"
   ]
  },
  {
   "cell_type": "code",
   "execution_count": 4,
   "metadata": {},
   "outputs": [
    {
     "data": {
      "application/vnd.jupyter.widget-view+json": {
       "model_id": "0c546ede88c14da9a60f9f87eb85f429",
       "version_major": 2,
       "version_minor": 0
      },
      "text/plain": [
       "HBox(children=(IntProgress(value=1, bar_style='info', max=1), HTML(value='')))"
      ]
     },
     "metadata": {},
     "output_type": "display_data"
    }
   ],
   "source": [
    "chunks = pd.read_json('Movies_and_TV.json', lines=True, chunksize =1000000)\n",
    "result=pd.DataFrame()\n",
    "for c in tqdm.tqdm_notebook(chunks):\n",
    "    result=result.append(c[['reviewerID','overall','asin']])\n",
    "result.to_csv('movies_and_tv.csv',index=False)"
   ]
  },
  {
   "cell_type": "code",
   "execution_count": 1,
   "metadata": {},
   "outputs": [],
   "source": [
    "bookdf=pd.read_csv('Books.csv')\n",
    "motvdf=pd.read_csv('movies_and_tv.csv')\n",
    "motvid=set(motvdf['reviewerID'])\n",
    "bookdf=bookdf[bookdf.reviewerID.isin(motvid)]\n",
    "bookdf_grouped=bookdf.groupby('reviewerID')\n",
    "motvdf_grouped=motvdf.groupby('reviewerID')"
   ]
  },
  {
   "cell_type": "code",
   "execution_count": 4,
   "metadata": {},
   "outputs": [],
   "source": [
    "bookdf_overall=bookdf_grouped['overall'].apply(list)\n",
    "motvdf_overall=motvdf_grouped['overall'].apply(list)\n",
    "merged=pd.merge(pd.DataFrame(motvdf_overall),pd.DataFrame(bookdf_overall),on='reviewerID')\n",
    "merged.columns=['movies','books']\n",
    "merged.to_csv('merged.csv')\n",
    "merged2=merged[merged['movies'].apply(lambda x:len(x)>=5) & merged['books'].apply(lambda x:len(x)>=5)]\n",
    "merged2.to_csv('merged2.csv')"
   ]
  },
  {
   "cell_type": "code",
   "execution_count": 116,
   "metadata": {},
   "outputs": [],
   "source": [
    "bookdf_overall=bookdf_grouped['asin'].apply(list)\n",
    "motvdf_overall=motvdf_grouped['asin'].apply(list)\n",
    "merged=pd.merge(pd.DataFrame(motvdf_overall),pd.DataFrame(bookdf_overall),on='reviewerID')\n",
    "merged.columns=['movies','books']\n",
    "merged.to_csv('merged_asin.csv')\n",
    "merged2=merged[merged['movies'].apply(lambda x:len(x)>=5) & merged['books'].apply(lambda x:len(x)>=5)]\n",
    "merged2.to_csv('merged2_asin.csv')"
   ]
  },
  {
   "cell_type": "markdown",
   "metadata": {},
   "source": [
    "## 2. Question 2"
   ]
  },
  {
   "cell_type": "code",
   "execution_count": 1,
   "metadata": {},
   "outputs": [],
   "source": [
    "import matplotlib.pyplot as plt\n",
    "import pandas as pd\n",
    "import ast\n",
    "import seaborn as sns\n",
    "import numpy as np\n",
    "import scipy.stats as stats\n",
    "import pandas as pd\n",
    "import tqdm\n",
    "sns.set_style('darkgrid')"
   ]
  },
  {
   "cell_type": "code",
   "execution_count": 2,
   "metadata": {},
   "outputs": [],
   "source": [
    "merged2=pd.read_csv('merged2.csv',converters={1:ast.literal_eval,2:ast.literal_eval})"
   ]
  },
  {
   "cell_type": "code",
   "execution_count": 3,
   "metadata": {},
   "outputs": [
    {
     "data": {
      "text/html": [
       "<div>\n",
       "<style scoped>\n",
       "    .dataframe tbody tr th:only-of-type {\n",
       "        vertical-align: middle;\n",
       "    }\n",
       "\n",
       "    .dataframe tbody tr th {\n",
       "        vertical-align: top;\n",
       "    }\n",
       "\n",
       "    .dataframe thead th {\n",
       "        text-align: right;\n",
       "    }\n",
       "</style>\n",
       "<table border=\"1\" class=\"dataframe\">\n",
       "  <thead>\n",
       "    <tr style=\"text-align: right;\">\n",
       "      <th></th>\n",
       "      <th>reviewerID</th>\n",
       "      <th>movies</th>\n",
       "      <th>books</th>\n",
       "    </tr>\n",
       "  </thead>\n",
       "  <tbody>\n",
       "    <tr>\n",
       "      <th>0</th>\n",
       "      <td>A0072041HVZ3465DXUOR</td>\n",
       "      <td>[5, 5, 5, 5, 5, 5, 5]</td>\n",
       "      <td>[5, 5, 5, 5, 3, 5, 5]</td>\n",
       "    </tr>\n",
       "    <tr>\n",
       "      <th>1</th>\n",
       "      <td>A0113687U6BI6AIBOQDK</td>\n",
       "      <td>[5, 5, 5, 5, 5, 4]</td>\n",
       "      <td>[5, 5, 5, 5, 5, 5, 5, 5, 5]</td>\n",
       "    </tr>\n",
       "    <tr>\n",
       "      <th>2</th>\n",
       "      <td>A0160612BLIWRHROHLLE</td>\n",
       "      <td>[5, 5, 4, 5, 1, 4, 5]</td>\n",
       "      <td>[5, 5, 5, 5, 5, 5, 5, 5, 5, 3, 5, 5, 4, 5, 5, ...</td>\n",
       "    </tr>\n",
       "    <tr>\n",
       "      <th>3</th>\n",
       "      <td>A0261335MGUP6K91KAAP</td>\n",
       "      <td>[5, 5, 5, 5, 5]</td>\n",
       "      <td>[4, 5, 5, 5, 5, 4]</td>\n",
       "    </tr>\n",
       "    <tr>\n",
       "      <th>4</th>\n",
       "      <td>A0275782DY4RT0D8KADG</td>\n",
       "      <td>[5, 5, 5, 5, 5, 5, 5]</td>\n",
       "      <td>[5, 4, 4, 4, 4, 4, 4, 4, 4, 4, 4, 4, 4, 4, 4, ...</td>\n",
       "    </tr>\n",
       "  </tbody>\n",
       "</table>\n",
       "</div>"
      ],
      "text/plain": [
       "             reviewerID                 movies  \\\n",
       "0  A0072041HVZ3465DXUOR  [5, 5, 5, 5, 5, 5, 5]   \n",
       "1  A0113687U6BI6AIBOQDK     [5, 5, 5, 5, 5, 4]   \n",
       "2  A0160612BLIWRHROHLLE  [5, 5, 4, 5, 1, 4, 5]   \n",
       "3  A0261335MGUP6K91KAAP        [5, 5, 5, 5, 5]   \n",
       "4  A0275782DY4RT0D8KADG  [5, 5, 5, 5, 5, 5, 5]   \n",
       "\n",
       "                                               books  \n",
       "0                              [5, 5, 5, 5, 3, 5, 5]  \n",
       "1                        [5, 5, 5, 5, 5, 5, 5, 5, 5]  \n",
       "2  [5, 5, 5, 5, 5, 5, 5, 5, 5, 3, 5, 5, 4, 5, 5, ...  \n",
       "3                                 [4, 5, 5, 5, 5, 4]  \n",
       "4  [5, 4, 4, 4, 4, 4, 4, 4, 4, 4, 4, 4, 4, 4, 4, ...  "
      ]
     },
     "execution_count": 3,
     "metadata": {},
     "output_type": "execute_result"
    }
   ],
   "source": [
    "merged2.head()"
   ]
  },
  {
   "cell_type": "code",
   "execution_count": 6,
   "metadata": {},
   "outputs": [
    {
     "data": {
      "text/plain": [
       "(133103, 3)"
      ]
     },
     "execution_count": 6,
     "metadata": {},
     "output_type": "execute_result"
    }
   ],
   "source": [
    "merged2.shape"
   ]
  },
  {
   "cell_type": "code",
   "execution_count": 7,
   "metadata": {},
   "outputs": [],
   "source": [
    "merged2['movies_5_ratio']=[sum(np.array(x)==5)/len(x) for x in merged2['movies']]\n",
    "merged2['books_5_ratio']=[sum(np.array(x)==5)/len(x) for x in merged2['books']]\n",
    "merged2['movies_ext_ratio']=[sum(pd.Series(x).isin([1,5]))/len(x) for x in merged2['movies']]\n",
    "merged2['books_ext_ratio']=[sum(pd.Series(x).isin([1,5]))/len(x) for x in merged2['books']]\n",
    "merged2['movies_mean']=[np.mean(x) for x in merged2['movies']]\n",
    "merged2['books_mean']=[np.mean(x) for x in merged2['books']]"
   ]
  },
  {
   "cell_type": "code",
   "execution_count": 8,
   "metadata": {},
   "outputs": [],
   "source": [
    "merged2['diff_5_ratio']=merged2['movies_5_ratio']-merged2['books_5_ratio']\n",
    "merged2['diff_ext_ratio']=merged2['movies_ext_ratio']-merged2['books_ext_ratio']\n",
    "merged2['diff_mean']=merged2['movies_mean']-merged2['books_mean']"
   ]
  },
  {
   "cell_type": "code",
   "execution_count": 9,
   "metadata": {},
   "outputs": [
    {
     "data": {
      "application/vnd.jupyter.widget-view+json": {
       "model_id": "be406291b4244ebaacb5b18876929c75",
       "version_major": 2,
       "version_minor": 0
      },
      "text/plain": [
       "HBox(children=(IntProgress(value=0, max=133103), HTML(value='')))"
      ]
     },
     "metadata": {},
     "output_type": "display_data"
    },
    {
     "name": "stdout",
     "output_type": "stream",
     "text": [
      "\n",
      "0.15024454745572977\n"
     ]
    }
   ],
   "source": [
    "zipped=list(zip(merged2['movies'],merged2['books']))\n",
    "result=[]\n",
    "for x in tqdm.tqdm_notebook(zipped):\n",
    "    if np.mean(x[0])!=np.mean(x[1]):\n",
    "        result.append(stats.ttest_ind(x[0],x[1]).pvalue)\n",
    "    else:\n",
    "        result.append(1)\n",
    "merged2['ttest']=result        \n",
    "tt_ratio=sum(merged2['ttest']<0.05)/len(merged2)\n",
    "print(tt_ratio) #We can reject the null hypothesis that the mean of reviews between Movies/TV and Books are the same for 15% of reviewers\n",
    "merged2.to_csv('merged3.csv',index=False)"
   ]
  },
  {
   "cell_type": "code",
   "execution_count": 10,
   "metadata": {},
   "outputs": [
    {
     "data": {
      "image/png": "[encoded data removed]",
      "text/plain": [
       "<Figure size 864x432 with 2 Axes>"
      ]
     },
     "metadata": {
      "needs_background": "light"
     },
     "output_type": "display_data"
    }
   ],
   "source": [
    "fig, ax =plt.subplots(1,2,figsize=(12,6))\n",
    "plot=sns.boxplot(merged2['diff_mean'], ax=ax[0])\n",
    "plot.set(xlabel=None)\n",
    "plot=sns.distplot(merged2['diff_mean'], ax=ax[1],kde=False)\n",
    "plot.set(xlabel=None)\n",
    "meanval=round(np.mean(merged2['diff_mean']),4)\n",
    "fig.suptitle(f\"Distribution of Rating Mean Difference (Movies/TV - Books)\", fontsize=16)\n",
    "fig.text(0.5,0.04, f\"Mean: {meanval}\", ha=\"center\", va=\"center\",fontsize=16)\n",
    "\n",
    "plt.show()"
   ]
  },
  {
   "cell_type": "markdown",
   "metadata": {},
   "source": [
    "<li> For each reviewerID, mean rating for movies/tv and books were calculated. Then, the difference of these means were calculated by subtracting movies/tv mean rating from books mean rating. The mean was -0.0998, which indicates that the reviewers are slightly more genourus when rating the books. "
   ]
  },
  {
   "cell_type": "code",
   "execution_count": 7,
   "metadata": {},
   "outputs": [
    {
     "data": {
      "image/png": "[encoded data removed]",
      "text/plain": [
       "<Figure size 864x432 with 2 Axes>"
      ]
     },
     "metadata": {
      "needs_background": "light"
     },
     "output_type": "display_data"
    }
   ],
   "source": [
    "fig, ax =plt.subplots(1,2,figsize=(12,6))\n",
    "plot=sns.boxplot(merged2['diff_5_ratio'], ax=ax[0])\n",
    "plot.set(xlabel=None)\n",
    "plot=sns.distplot(merged2['diff_5_ratio'], ax=ax[1],kde=False)\n",
    "plot.set(xlabel=None)\n",
    "meanval=round(np.mean(merged2['diff_5_ratio']),4)\n",
    "fig.suptitle(f\"Distribution of 5 Rating Proportion Difference (Movies/TV - Books)\", fontsize=16)\n",
    "fig.text(0.5,0.04, f\"Mean: {meanval}\", ha=\"center\", va=\"center\",fontsize=16)\n",
    "\n",
    "plt.show()"
   ]
  },
  {
   "cell_type": "markdown",
   "metadata": {},
   "source": [
    "<li>For each revier ID, the proportion of 5 rating for movies/tv and books were calculated. Then, the differcne of these proportions were calculated by subtracting movies/tv proportion from books proportion. The mean was -0.0284, which indicates that the reviewers tend to give 5 ratings more to the books when compared to movies/tv, although the difference is marginal.\n",
    "    "
   ]
  },
  {
   "cell_type": "code",
   "execution_count": 10,
   "metadata": {},
   "outputs": [
    {
     "data": {
      "image/png": "[encoded data removed]",
      "text/plain": [
       "<Figure size 864x432 with 2 Axes>"
      ]
     },
     "metadata": {
      "needs_background": "light"
     },
     "output_type": "display_data"
    }
   ],
   "source": [
    "fig, ax =plt.subplots(1,2,figsize=(12,6))\n",
    "plot=sns.boxplot(merged2['diff_ext_ratio'], ax=ax[0])\n",
    "plot.set(xlabel=None)\n",
    "plot=sns.distplot(merged2['diff_ext_ratio'], ax=ax[1],kde=False)\n",
    "plot.set(xlabel=None)\n",
    "meanval=round(np.mean(merged2['diff_ext_ratio']),4)\n",
    "fig.suptitle(f\"Distribution of Extreme Rating (1,5) Proportion Difference (Movies/TV - Books)\", fontsize=16)\n",
    "fig.text(0.5,0.04, f\"Mean: {meanval}\", ha=\"center\", va=\"center\",fontsize=16)\n",
    "plt.show()"
   ]
  },
  {
   "cell_type": "markdown",
   "metadata": {},
   "source": [
    "<li>Extreme ratings, which were defined as ratings with 1 and 5, were analyzed in the similar manner as previous analysis. The mean was -0.0119, which indicates that the reviewers ten to give extreme ratings more to the books when compared to movies/tv, although the difference is marginal. "
   ]
  },
  {
   "cell_type": "markdown",
   "metadata": {},
   "source": [
    "## 3. Question 3"
   ]
  },
  {
   "cell_type": "code",
   "execution_count": 1,
   "metadata": {},
   "outputs": [],
   "source": [
    "import matplotlib.pyplot as plt\n",
    "import pandas as pd\n",
    "import ast\n",
    "import seaborn as sns\n",
    "import numpy as np\n",
    "import scipy.stats as stats\n",
    "import pandas as pd\n",
    "import tqdm\n",
    "sns.set_style('darkgrid')"
   ]
  },
  {
   "cell_type": "code",
   "execution_count": null,
   "metadata": {},
   "outputs": [],
   "source": [
    "\n",
    "chunks = pd.read_json('meta_Movies_and_TV.json', lines=True, chunksize =1000000)\n",
    "\n",
    "result=pd.DataFrame()\n",
    "\n",
    "for c in tqdm.tqdm_notebook(chunks):\n",
    "\n",
    "    result=result.append(c[['asin','title']])\n",
    "result.to_csv('movies_and_tv_title.csv',index=False)"
   ]
  },
  {
   "cell_type": "code",
   "execution_count": 2,
   "metadata": {},
   "outputs": [
    {
     "data": {
      "application/vnd.jupyter.widget-view+json": {
       "model_id": "d0f978e18f1649be9bfede16dbfeba8c",
       "version_major": 2,
       "version_minor": 0
      },
      "text/plain": [
       "HBox(children=(IntProgress(value=1, bar_style='info', max=1), HTML(value='')))"
      ]
     },
     "metadata": {},
     "output_type": "display_data"
    },
    {
     "name": "stdout",
     "output_type": "stream",
     "text": [
      "\n"
     ]
    }
   ],
   "source": [
    "\n",
    "chunks = pd.read_json('meta_Books.json', lines=True, chunksize =100000)\n",
    "    \n",
    "result=pd.DataFrame()\n",
    "\n",
    "for c in tqdm.tqdm_notebook(chunks):\n",
    "\n",
    "    result=result.append(c[['asin','title']])\n",
    "result.to_csv('books_title.csv',index=False)"
   ]
  },
  {
   "cell_type": "code",
   "execution_count": 3,
   "metadata": {},
   "outputs": [],
   "source": [
    "books_title=pd.read_csv('books_title.csv')\n",
    "motv_title=pd.read_csv('movies_and_tv_title.csv')"
   ]
  },
  {
   "cell_type": "code",
   "execution_count": 49,
   "metadata": {},
   "outputs": [
    {
     "data": {
      "application/vnd.jupyter.widget-view+json": {
       "model_id": "d86ae9577ed54fc4b992e8196632b2a5",
       "version_major": 2,
       "version_minor": 0
      },
      "text/plain": [
       "HBox(children=(IntProgress(value=0, max=2935525), HTML(value='')))"
      ]
     },
     "metadata": {},
     "output_type": "display_data"
    }
   ],
   "source": [
    "result=[]\n",
    "for books in tqdm.tqdm_notebook(books_title['title']):\n",
    "    result.append(fuzz.ratio(str(motv_title['title'][0]),str(books)))"
   ]
  },
  {
   "cell_type": "code",
   "execution_count": 60,
   "metadata": {},
   "outputs": [
    {
     "data": {
      "text/plain": [
       "'Understanding Seizures and Epilepsy'"
      ]
     },
     "execution_count": 60,
     "metadata": {},
     "output_type": "execute_result"
    }
   ],
   "source": [
    "motv_title['title'][0]"
   ]
  },
  {
   "cell_type": "code",
   "execution_count": 59,
   "metadata": {
    "scrolled": true
   },
   "outputs": [
    {
     "data": {
      "text/plain": [
       "'Understanding Serenity'"
      ]
     },
     "execution_count": 59,
     "metadata": {},
     "output_type": "execute_result"
    }
   ],
   "source": [
    "books_title['title'][np.argmax(result)]"
   ]
  }
 ],
 "metadata": {
  "kernelspec": {
   "display_name": "Python 3",
   "language": "python",
   "name": "python3"
  },
  "language_info": {
   "codemirror_mode": {
    "name": "ipython",
    "version": 3
   },
   "file_extension": ".py",
   "mimetype": "text/x-python",
   "name": "python",
   "nbconvert_exporter": "python",
   "pygments_lexer": "ipython3",
   "version": "3.7.3"
  }
 },
 "nbformat": 4,
 "nbformat_minor": 2
}
